{
  "nbformat": 4,
  "nbformat_minor": 0,
  "metadata": {
    "colab": {
      "provenance": [],
      "authorship_tag": "ABX9TyNBE1FQF0uvWnGNUCyjnNNy",
      "include_colab_link": true
    },
    "kernelspec": {
      "name": "python3",
      "display_name": "Python 3"
    },
    "language_info": {
      "name": "python"
    }
  },
  "cells": [
    {
      "cell_type": "markdown",
      "metadata": {
        "id": "view-in-github",
        "colab_type": "text"
      },
      "source": [
        "<a href=\"https://colab.research.google.com/github/vibhakar253/Simple-ATM-Simulator-Using-JAVA/blob/main/ATMmachineproject_java.ipynb\" target=\"_parent\"><img src=\"https://colab.research.google.com/assets/colab-badge.svg\" alt=\"Open In Colab\"/></a>"
      ]
    },
    {
      "cell_type": "code",
      "source": [
        "import os\n",
        "def install_java():\n",
        "  !apt-get install -y openjdk-8-jdk-headless -qq > /dev/null\n",
        "  os.environ[\"JAVA_HOME\"] = \"/usr/lib/jvm/java-8-openjdk-amd64\"\n",
        "  !java -version\n",
        "install_java()"
      ],
      "metadata": {
        "colab": {
          "base_uri": "https://localhost:8080/"
        },
        "id": "dsFXeWQtBWQD",
        "outputId": "bd963cd4-8ddc-4624-f0e4-6f7e911ae5b7"
      },
      "execution_count": null,
      "outputs": [
        {
          "output_type": "stream",
          "name": "stdout",
          "text": [
            "openjdk version \"11.0.18\" 2023-01-17\n",
            "OpenJDK Runtime Environment (build 11.0.18+10-post-Ubuntu-0ubuntu120.04.1)\n",
            "OpenJDK 64-Bit Server VM (build 11.0.18+10-post-Ubuntu-0ubuntu120.04.1, mixed mode, sharing)\n"
          ]
        }
      ]
    },
    {
      "cell_type": "code",
      "execution_count": null,
      "metadata": {
        "colab": {
          "base_uri": "https://localhost:8080/"
        },
        "id": "nbZJboeaZaPQ",
        "outputId": "35aa4e11-d948-4bcd-e7f5-762b6dd15a6b"
      },
      "outputs": [
        {
          "output_type": "stream",
          "name": "stdout",
          "text": [
            "Overwriting ATMmachineproject.java\n"
          ]
        }
      ],
      "source": [
        "%%writefile ATMmachineproject.java\n",
        "/*This a simple ATM simulation project made by AKS VIBHAKAR - HU21CSEN0101156 */\n",
        "\n",
        "import java.util.ArrayList;\n",
        "import java.util.Scanner;\n",
        "\n",
        "public class ATMmachineproject {\n",
        "\n",
        "    public static void main(String[] args) {\n",
        "        // Creating a scanner to read input from the user\n",
        "\n",
        "        Scanner sc = new Scanner(System.in);\n",
        "        // Creating a new bank object to hold user information\n",
        "\n",
        "        Bank bank = new Bank();\n",
        "        // Printing a welcome message\n",
        "\n",
        "        System.out.println(\"Welcome to the ATM machine\");\n",
        "        // Asking the user for their account number\n",
        "\n",
        "        System.out.print(\"Please enter your account number: \");\n",
        "        int accountNumber = sc.nextInt();\n",
        "        // Asking the user for their PIN\n",
        "\n",
        "        System.out.print(\"Please enter your PIN: \");\n",
        "        int pin = sc.nextInt();\n",
        "        // If the account number and PIN are valid, we display the user menu\n",
        "\n",
        "        if (bank.authenticateUser(accountNumber, pin)) {\n",
        "            User user = bank.getUser(accountNumber);\n",
        "            user.displayMenu();\n",
        "        } else {\n",
        "            // If the account number and PIN are not valid, print an error message\n",
        "\n",
        "            System.out.println(\"Invalid account number or PIN.\");\n",
        "        }\n",
        "    }\n",
        "\n",
        "    // I used array list to store the user information under the Bank class\n",
        "    public static class Bank {\n",
        "        private ArrayList<User> users;\n",
        "\n",
        "        public Bank() {\n",
        "            // Initializing the list of users with some test data using array list\n",
        "\n",
        "            users = new ArrayList<User>();\n",
        "            users.add(new User(123456, 1671, 1000000.8765));\n",
        "            users.add(new User(234567, 2422, 500000.5632));\n",
        "            users.add(new User(345678, 3563, 20000.0976));\n",
        "        }\n",
        "\n",
        "        // Check if the user with the given account number and PIN is valid\n",
        "\n",
        "        /*Bank class has two methods: authenticateUser and getUser.\n",
        "authenticateUser takes an account number and a PIN and returns true if there is a user with that account number and\n",
        "PIN in the bank, or false if there is not. This is used in the main method to check if the user entered a valid account number and PIN.\n",
        "getUser takes an account number and returns the User object associated with that account number, or null if there is\n",
        "no user with that account number. This is used in the main method to get the User object for the authenticated user. */\n",
        "\n",
        "        public boolean authenticateUser(int accountNumber, int pin) {\n",
        "            for (User user : users) {\n",
        "                if (user.getAccountNumber() == accountNumber && user.getPin() == pin) {\n",
        "                    return true;\n",
        "                }\n",
        "            }\n",
        "            return false;\n",
        "        }\n",
        "\n",
        "        // Get the user object for the user with the given account number\n",
        "\n",
        "        public User getUser(int accountNumber) {\n",
        "            for (User user : users) {\n",
        "                if (user.getAccountNumber() == accountNumber) {\n",
        "                    return user;\n",
        "                }\n",
        "            }\n",
        "            return null;\n",
        "        }\n",
        "    }\n",
        "\n",
        "    // A User class to represent an individual user account\n",
        "\n",
        "    public static class User {\n",
        "        private int accountNumber;\n",
        "        private int pin;\n",
        "        private double balance;\n",
        "\n",
        "        public User(int accountNumber, int pin, double balance) {\n",
        "            this.accountNumber = accountNumber;\n",
        "            this.pin = pin;\n",
        "            this.balance = balance;\n",
        "        }\n",
        "\n",
        "        public int getAccountNumber() {\n",
        "            return accountNumber;\n",
        "        }\n",
        "\n",
        "        public int getPin() {\n",
        "            return pin;\n",
        "        }\n",
        "\n",
        "        public double getBalance() {\n",
        "            return balance;\n",
        "        }\n",
        "\n",
        "        // Display the user menu and respond to the user's choices\n",
        "\n",
        "        public void displayMenu() {\n",
        "            Scanner sc = new Scanner(System.in);\n",
        "            int choice;\n",
        "            do {\n",
        "                // Display the menu options\n",
        "\n",
        "                System.out.println(\"ATM Menu:\");\n",
        "                System.out.println(\"1. Check balance\");\n",
        "                System.out.println(\"2. Withdraw\");\n",
        "                System.out.println(\"3. Deposit\");\n",
        "                System.out.println(\"4. Exit\");\n",
        "                System.out.print(\"Please choose an option: \");\n",
        "                choice = sc.nextInt();\n",
        "\n",
        "                // Respond to the user's choice\n",
        "\n",
        "                switch (choice) {\n",
        "                    case 1:\n",
        "\n",
        "                        // If the user chooses to check their balance, print their current balance\n",
        "\n",
        "                        System.out.println(\"Your current balance is Rs \" + balance);\n",
        "                        break;\n",
        "                    case 2:\n",
        "\n",
        "                        // If the user chooses to withdraw money, ask how much they want to withdraw\n",
        "\n",
        "                        System.out.print(\"How much would you like to withdraw\");\n",
        "                        double amount = sc.nextDouble();\n",
        "\n",
        "                        // If the user doesn't have enough money in their account, print an error message\n",
        "\n",
        "                        if (amount > balance) {\n",
        "                            System.out.println(\"Insufficient funds.\");\n",
        "                        } else {\n",
        "\n",
        "                            // Otherwise, deduct the amount from their balance\n",
        "\n",
        "                            balance -= amount;\n",
        "                            System.out.println(\"Dispensing Rs \" + amount);\n",
        "                            System.out.println(\"Your updated balnce is Rs \" + balance);\n",
        "                        }\n",
        "                        break;\n",
        "                    case 3:\n",
        "\n",
        "                        // If the user chooses to deposit money, ask how much they want to deposit\n",
        "\n",
        "                        System.out.print(\"How much would you like to deposit: \");\n",
        "                        amount = sc.nextDouble();\n",
        "\n",
        "                        // Add the amount to their balance\n",
        "\n",
        "                        balance += amount;\n",
        "                        System.out.println(\"Your updated balance is Rs \" + balance);\n",
        "                        break;\n",
        "                    case 4:\n",
        "\n",
        "                        // If the user chooses to exit, do nothing and the loop will end\n",
        "\n",
        "                        break;\n",
        "                    default:\n",
        "\n",
        "                        // If the user enters an invalid choice, print an error message\n",
        "\n",
        "                        System.out.println(\"Invalid choice.\");\n",
        "                }\n",
        "            } while (choice != 4);\n",
        "\n",
        "            // Print a goodbye message when the user exits\n",
        "\n",
        "            System.out.println(\"Thank you\");\n",
        "        }\n",
        "    }\n",
        "}\n",
        "\n",
        "\n"
      ]
    },
    {
      "cell_type": "markdown",
      "source": [
        "##Login Credentialss\n",
        "\n",
        "##Account no : 123456, Pin:  1671\n",
        "##Account no: 234567, Pin: 2422\n",
        "##Account no : 345678, 3563"
      ],
      "metadata": {
        "id": "mXyVKsGLGwSa"
      }
    },
    {
      "cell_type": "code",
      "source": [
        "!javac ATMmachineproject.java\n",
        "!java ATMmachineproject"
      ],
      "metadata": {
        "colab": {
          "base_uri": "https://localhost:8080/"
        },
        "id": "Ft49_zuGFN_5",
        "outputId": "60108f31-b4e4-4d1a-eee4-9c8def01d94c"
      },
      "execution_count": null,
      "outputs": [
        {
          "output_type": "stream",
          "name": "stdout",
          "text": [
            "Welcome to the ATM machine\n",
            "Please enter your account number: 123456\n",
            "Please enter your PIN: 1671\n",
            "ATM Menu:\n",
            "1. Check balance\n",
            "2. Withdraw\n",
            "3. Deposit\n",
            "4. Exit\n",
            "Please choose an option: 2\n",
            "How much would you like to withdraw500.673\n",
            "Dispensing Rs 500.673\n",
            "Your updated balnce is Rs 999500.2035000001\n",
            "ATM Menu:\n",
            "1. Check balance\n",
            "2. Withdraw\n",
            "3. Deposit\n",
            "4. Exit\n",
            "Please choose an option: 4\n",
            "Thank you\n"
          ]
        }
      ]
    }
  ]
}